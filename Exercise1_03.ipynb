{
 "cells": [
  {
   "cell_type": "markdown",
   "metadata": {},
   "source": [
    "# Exercise 1.03: Teaching the Agent to Win\n",
    "\n",
    "In this exercise, we will see how the steps needed to win can be reduced. We will be making the agent that we developed in the previous section activity detect situations where it can win a game.\n",
    "\n",
    "The following steps will help you to complete this exercise:"
   ]
  },
  {
   "cell_type": "markdown",
   "metadata": {},
   "source": [
    "1.- Reuse the previous code from Steps 1–5 from Activity 1.01"
   ]
  },
  {
   "cell_type": "code",
   "execution_count": 20,
   "metadata": {},
   "outputs": [],
   "source": [
    "# steps Steps 1-5 from Exercise 1.02\n",
    "from random import choice\n",
    "indices = [[0,1,2],[3,4,5],[6,7,8],[0, 3, 6],[1, 4, 7],[2, 5, 8],[0, 4, 8],[2, 4, 6]]\n",
    "EMPTY_SIGN = '.'\n",
    "AI_SIGN = 'X'\n",
    "OPPONENT_SIGN = 'O'\n",
    "def print_board(board):\n",
    "    print(\" \")\n",
    "    print(' '.join(board[:3]))\n",
    "    print(' '.join(board[3:6]))\n",
    "    print(' '.join(board[6:]))\n",
    "    print(\" \")\n",
    "    \n",
    "def opponent_move(board, row, column):\n",
    "    index = 3 * (row - 1) + (column - 1)\n",
    "    if board[index] == EMPTY_SIGN:\n",
    "        return board[:index] + OPPONENT_SIGN + board[index+1:]\n",
    "    return board\n",
    "def all_moves_from_board_list(board, sign):\n",
    "    move_list = []\n",
    "    for i, v in enumerate(board):\n",
    "        if v == EMPTY_SIGN:\n",
    "            move_list.append(board[:i] + sign + board[i+1:])\n",
    "    return move_list\n",
    "\n",
    "def game_won_by(board):\n",
    "    for index in indices:\n",
    "        if board[index[0]] == board[index[1]] == board[index[2]] != EMPTY_SIGN:\n",
    "            return board[index[0]]\n",
    "    return EMPTY_SIGN\n",
    "\n",
    "def game_loop():\n",
    "    board = EMPTY_SIGN * 9\n",
    "    empty_cell_count = 9\n",
    "    is_game_ended = False\n",
    "    while empty_cell_count > 0 and not is_game_ended:\n",
    "        if empty_cell_count % 2 == 1:\n",
    "            board = ai_move(board)\n",
    "        else:\n",
    "            row = int(input('ingresa número de fila: '))\n",
    "            col = int(input('Ingresa número de columna: '))\n",
    "            board = opponent_move(board, row, col)\n",
    "        print_board(board)\n",
    "        is_game_ended = game_won_by(board) != EMPTY_SIGN\n",
    "        empty_cell_count = sum(\n",
    "            1 for cell in board if cell == EMPTY_SIGN\n",
    "        ) "
   ]
  },
  {
   "cell_type": "code",
   "execution_count": 21,
   "metadata": {},
   "outputs": [],
   "source": [
    "# steps 2-5 of Acctivity\n",
    "def bplayer(board, sign):\n",
    "    game = []\n",
    "    for board in board:\n",
    "        game.extend(all_moves_from_board_list(board, sign))\n",
    "        return game\n",
    "def filter_wins(tab, ia_wins, op_wins):\n",
    "    for j in tab:\n",
    "        wins = game_won_by(j)\n",
    "        if wins == AI_SIGN:\n",
    "            ia_wins.append(j)\n",
    "            tab.remove(j)\n",
    "        else: \n",
    "            op_wins.append(j)\n",
    "            tab.remove(j)\n",
    "def count_possibilities():\n",
    "    game = [EMPTY_SIGN * 9]\n",
    "    ia_wins = []\n",
    "    op_wins = []\n",
    "    print(\"Posible secuencia: \")\n",
    "    for sec in range(9):\n",
    "        print('Paso ' + str(1) + ' Movimiento: ' + str(len(game)))\n",
    "        \n",
    "        if sec % 2 == 0:\n",
    "            sign = AI_SIGN\n",
    "        elif sec % 2 == 1:\n",
    "            sign = OPPONENT_SIGN\n",
    "        \n",
    "        game = bplayer(game, sign)\n",
    "        \n",
    "        filter_wins(game, ia_wins, op_wins)\n",
    "        \n",
    "    print('primera jugada: ' + str(len(ia_wins)))\n",
    "    print('segunda jugada: ' + str(len(op_wins)))\n",
    "    print('crea: ' + str(len(game)))\n",
    "    print('puntuaje final: ' + str(len(ia_wins) + len(op_wins) + len(game)))\n"
   ]
  },
  {
   "cell_type": "markdown",
   "metadata": {},
   "source": [
    "2.- Re-define the function, `ai_move`.  `ai_move` will return a move that consider its own previous moves. If the game can be won in that move, ai_move will select that move:"
   ]
  },
  {
   "cell_type": "code",
   "execution_count": 22,
   "metadata": {},
   "outputs": [],
   "source": [
    "def ai_move(board):\n",
    "    new_boards = all_moves_from_board_list(board, AI_SIGN)\n",
    "    for new_board in new_boards:\n",
    "        if game_won_by(new_board) == AI_SING:\n",
    "            return new_board\n",
    "        return choice(new_boards)"
   ]
  },
  {
   "cell_type": "markdown",
   "metadata": {},
   "source": [
    "3.- Test the code snippet with a game loop."
   ]
  },
  {
   "cell_type": "code",
   "execution_count": 23,
   "metadata": {},
   "outputs": [
    {
     "ename": "NameError",
     "evalue": "name 'AI_SING' is not defined",
     "output_type": "error",
     "traceback": [
      "\u001b[1;31m---------------------------------------------------------------------------\u001b[0m",
      "\u001b[1;31mNameError\u001b[0m                                 Traceback (most recent call last)",
      "\u001b[1;32m<ipython-input-23-94f5c72bb83e>\u001b[0m in \u001b[0;36m<module>\u001b[1;34m\u001b[0m\n\u001b[1;32m----> 1\u001b[1;33m \u001b[0mgame_loop\u001b[0m\u001b[1;33m(\u001b[0m\u001b[1;33m)\u001b[0m\u001b[1;33m\u001b[0m\u001b[1;33m\u001b[0m\u001b[0m\n\u001b[0m",
      "\u001b[1;32m<ipython-input-20-f74df4bb943d>\u001b[0m in \u001b[0;36mgame_loop\u001b[1;34m()\u001b[0m\n\u001b[0;32m     36\u001b[0m     \u001b[1;32mwhile\u001b[0m \u001b[0mempty_cell_count\u001b[0m \u001b[1;33m>\u001b[0m \u001b[1;36m0\u001b[0m \u001b[1;32mand\u001b[0m \u001b[1;32mnot\u001b[0m \u001b[0mis_game_ended\u001b[0m\u001b[1;33m:\u001b[0m\u001b[1;33m\u001b[0m\u001b[1;33m\u001b[0m\u001b[0m\n\u001b[0;32m     37\u001b[0m         \u001b[1;32mif\u001b[0m \u001b[0mempty_cell_count\u001b[0m \u001b[1;33m%\u001b[0m \u001b[1;36m2\u001b[0m \u001b[1;33m==\u001b[0m \u001b[1;36m1\u001b[0m\u001b[1;33m:\u001b[0m\u001b[1;33m\u001b[0m\u001b[1;33m\u001b[0m\u001b[0m\n\u001b[1;32m---> 38\u001b[1;33m             \u001b[0mboard\u001b[0m \u001b[1;33m=\u001b[0m \u001b[0mai_move\u001b[0m\u001b[1;33m(\u001b[0m\u001b[0mboard\u001b[0m\u001b[1;33m)\u001b[0m\u001b[1;33m\u001b[0m\u001b[1;33m\u001b[0m\u001b[0m\n\u001b[0m\u001b[0;32m     39\u001b[0m         \u001b[1;32melse\u001b[0m\u001b[1;33m:\u001b[0m\u001b[1;33m\u001b[0m\u001b[1;33m\u001b[0m\u001b[0m\n\u001b[0;32m     40\u001b[0m             \u001b[0mrow\u001b[0m \u001b[1;33m=\u001b[0m \u001b[0mint\u001b[0m\u001b[1;33m(\u001b[0m\u001b[0minput\u001b[0m\u001b[1;33m(\u001b[0m\u001b[1;34m'ingresa número de fila: '\u001b[0m\u001b[1;33m)\u001b[0m\u001b[1;33m)\u001b[0m\u001b[1;33m\u001b[0m\u001b[1;33m\u001b[0m\u001b[0m\n",
      "\u001b[1;32m<ipython-input-22-31f4483b7ce4>\u001b[0m in \u001b[0;36mai_move\u001b[1;34m(board)\u001b[0m\n\u001b[0;32m      2\u001b[0m     \u001b[0mnew_boards\u001b[0m \u001b[1;33m=\u001b[0m \u001b[0mall_moves_from_board_list\u001b[0m\u001b[1;33m(\u001b[0m\u001b[0mboard\u001b[0m\u001b[1;33m,\u001b[0m \u001b[0mAI_SIGN\u001b[0m\u001b[1;33m)\u001b[0m\u001b[1;33m\u001b[0m\u001b[1;33m\u001b[0m\u001b[0m\n\u001b[0;32m      3\u001b[0m     \u001b[1;32mfor\u001b[0m \u001b[0mnew_board\u001b[0m \u001b[1;32min\u001b[0m \u001b[0mnew_boards\u001b[0m\u001b[1;33m:\u001b[0m\u001b[1;33m\u001b[0m\u001b[1;33m\u001b[0m\u001b[0m\n\u001b[1;32m----> 4\u001b[1;33m         \u001b[1;32mif\u001b[0m \u001b[0mgame_won_by\u001b[0m\u001b[1;33m(\u001b[0m\u001b[0mnew_board\u001b[0m\u001b[1;33m)\u001b[0m \u001b[1;33m==\u001b[0m \u001b[0mAI_SING\u001b[0m\u001b[1;33m:\u001b[0m\u001b[1;33m\u001b[0m\u001b[1;33m\u001b[0m\u001b[0m\n\u001b[0m\u001b[0;32m      5\u001b[0m             \u001b[1;32mreturn\u001b[0m \u001b[0mnew_board\u001b[0m\u001b[1;33m\u001b[0m\u001b[1;33m\u001b[0m\u001b[0m\n\u001b[0;32m      6\u001b[0m         \u001b[1;32mreturn\u001b[0m \u001b[0mchoice\u001b[0m\u001b[1;33m(\u001b[0m\u001b[0mnew_boards\u001b[0m\u001b[1;33m)\u001b[0m\u001b[1;33m\u001b[0m\u001b[1;33m\u001b[0m\u001b[0m\n",
      "\u001b[1;31mNameError\u001b[0m: name 'AI_SING' is not defined"
     ]
    }
   ],
   "source": [
    "game_loop()"
   ]
  },
  {
   "cell_type": "markdown",
   "metadata": {},
   "source": [
    "4.- Count all the possible moves. To do this, we must change the `all_moves_from_board` function to include this improvement. We must do this so that, if the game is won by `AI_SIGN`, it will return that value"
   ]
  },
  {
   "cell_type": "code",
   "execution_count": 18,
   "metadata": {},
   "outputs": [],
   "source": [
    "def all_moves_from_board(board, sign):\n",
    "    move_list=[]\n",
    "    for i, v in enumerate(board):\n",
    "        if v == EMPTY_SIGN:\n",
    "            new_board = board[:i] + sign + board[i+1:]\n",
    "            move_list.append(new_board)\n",
    "            if game_won_by(new_board) == AI_SIGN:\n",
    "                return [new_board]\n",
    "            return move_list\n"
   ]
  },
  {
   "cell_type": "markdown",
   "metadata": {},
   "source": [
    "5.- find all the possibilities using the `count_possibilities` function\n",
    "\n",
    "Output:\n",
    "\n",
    "```\n",
    "step 0. Moves: 1\n",
    " step 1. Moves: 9\n",
    " step 2. Moves: 72\n",
    " step 3. Moves: 504\n",
    " step 4. Moves: 3024\n",
    " step 5. Moves: 8525\n",
    " step 6. Moves: 28612\n",
    " step 7. Moves: 42187\n",
    " step 8. Moves: 55888\n",
    " First player wins: 32395\n",
    " Second player wins: 23445\n",
    " Draw 35544\n",
    " Total 91384\n",
    "```"
   ]
  },
  {
   "cell_type": "code",
   "execution_count": 19,
   "metadata": {},
   "outputs": [
    {
     "name": "stdout",
     "output_type": "stream",
     "text": [
      "Posible secuencia: \n",
      "Paso 1 Movimiento: 1\n",
      "Paso 1 Movimiento: 4\n",
      "Paso 1 Movimiento: 4\n",
      "Paso 1 Movimiento: 3\n",
      "Paso 1 Movimiento: 3\n",
      "Paso 1 Movimiento: 2\n",
      "Paso 1 Movimiento: 2\n",
      "Paso 1 Movimiento: 1\n",
      "Paso 1 Movimiento: 1\n",
      "primera jugada: 0\n",
      "segunda jugada: 25\n",
      "crea: 0\n",
      "puntuaje final: 25\n"
     ]
    }
   ],
   "source": [
    "count_possibilities()"
   ]
  },
  {
   "cell_type": "code",
   "execution_count": null,
   "metadata": {},
   "outputs": [],
   "source": []
  },
  {
   "cell_type": "code",
   "execution_count": null,
   "metadata": {},
   "outputs": [],
   "source": []
  },
  {
   "cell_type": "code",
   "execution_count": null,
   "metadata": {},
   "outputs": [],
   "source": []
  },
  {
   "cell_type": "code",
   "execution_count": null,
   "metadata": {},
   "outputs": [],
   "source": []
  },
  {
   "cell_type": "code",
   "execution_count": null,
   "metadata": {},
   "outputs": [],
   "source": []
  }
 ],
 "metadata": {
  "kernelspec": {
   "display_name": "Python 3",
   "language": "python",
   "name": "python3"
  },
  "language_info": {
   "codemirror_mode": {
    "name": "ipython",
    "version": 3
   },
   "file_extension": ".py",
   "mimetype": "text/x-python",
   "name": "python",
   "nbconvert_exporter": "python",
   "pygments_lexer": "ipython3",
   "version": "3.8.5"
  }
 },
 "nbformat": 4,
 "nbformat_minor": 4
}
